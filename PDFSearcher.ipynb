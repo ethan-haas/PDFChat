{
  "nbformat": 4,
  "nbformat_minor": 0,
  "metadata": {
    "colab": {
      "provenance": []
    },
    "kernelspec": {
      "name": "python3",
      "display_name": "Python 3"
    },
    "language_info": {
      "name": "python"
    }
  },
  "cells": [
    {
      "cell_type": "code",
      "execution_count": null,
      "metadata": {
        "id": "FJr2ArRPonBT"
      },
      "outputs": [],
      "source": [
        "!git clone https://github.com/ethan-haas/PDFSearcher.git"
      ]
    },
    {
      "cell_type": "code",
      "source": [
        "%cd PDFSearcher"
      ],
      "metadata": {
        "id": "bdO7vLIKp8wi"
      },
      "execution_count": null,
      "outputs": []
    },
    {
      "cell_type": "code",
      "source": [
        "!pip install -r requirements.txt"
      ],
      "metadata": {
        "id": "if_lf1EoqSe5"
      },
      "execution_count": null,
      "outputs": []
    },
    {
      "cell_type": "code",
      "source": [
        "!python PDFSearcher.py"
      ],
      "metadata": {
        "id": "YN1bfTXNqytr"
      },
      "execution_count": null,
      "outputs": []
    }
  ]
}